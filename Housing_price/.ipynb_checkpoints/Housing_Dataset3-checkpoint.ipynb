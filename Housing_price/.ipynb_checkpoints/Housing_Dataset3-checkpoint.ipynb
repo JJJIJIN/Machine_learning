{
 "cells": [
  {
   "cell_type": "code",
   "execution_count": 1,
   "id": "3be20921-d51c-4b42-9f50-38ebd522bf49",
   "metadata": {},
   "outputs": [],
   "source": [
    "\n",
    "import numpy as np\n",
    "import pandas as pd\n",
    "import matplotlib.pyplot as plt\n",
    "import seaborn as sns\n",
    "from sklearn.model_selection import train_test_split\n",
    "from sklearn.linear_model import LinearRegression\n",
    "from sklearn.metrics import r2_score\n",
    "from scipy import stats\n",
    "import warnings\n",
    "warnings.filterwarnings(action = 'ignore')\n",
    "plt.style.use('seaborn')"
   ]
  },
  {
   "cell_type": "code",
   "execution_count": 2,
   "id": "00fc3733-4132-4a11-ba36-66e77b6910e6",
   "metadata": {},
   "outputs": [],
   "source": [
    "def dataLoader(path:str, thresh:int = 0.2)->pd.DataFrame:\n",
    "    '''\n",
    "    Load the data. Drop cols with null threshold more than thresh param.\n",
    "    '''\n",
    "    data = pd.read_csv(path)\n",
    "    data = data.drop('Id', axis = 1)\n",
    "    null_cols = data.isnull().sum()[data.isnull().sum()/len(data) > thresh]\n",
    "    null_cols_list = null_cols.index\n",
    "    data.drop(null_cols_list, axis = 1, inplace = True)\n",
    "    data.dropna(inplace = True)\n",
    "    print(f'data shape: {data.shape}')\n",
    "    return data"
   ]
  },
  {
   "cell_type": "code",
   "execution_count": 3,
   "id": "0481fa35-29ae-4039-a717-ab3a9b1840a3",
   "metadata": {},
   "outputs": [
    {
     "name": "stdout",
     "output_type": "stream",
     "text": [
      "data shape: (1338, 74)\n"
     ]
    },
    {
     "data": {
      "text/html": [
       "<div>\n",
       "<style scoped>\n",
       "    .dataframe tbody tr th:only-of-type {\n",
       "        vertical-align: middle;\n",
       "    }\n",
       "\n",
       "    .dataframe tbody tr th {\n",
       "        vertical-align: top;\n",
       "    }\n",
       "\n",
       "    .dataframe thead th {\n",
       "        text-align: right;\n",
       "    }\n",
       "</style>\n",
       "<table border=\"1\" class=\"dataframe\">\n",
       "  <thead>\n",
       "    <tr style=\"text-align: right;\">\n",
       "      <th></th>\n",
       "      <th>MSSubClass</th>\n",
       "      <th>MSZoning</th>\n",
       "      <th>LotArea</th>\n",
       "      <th>Street</th>\n",
       "      <th>LotShape</th>\n",
       "      <th>LandContour</th>\n",
       "      <th>Utilities</th>\n",
       "      <th>LotConfig</th>\n",
       "      <th>LandSlope</th>\n",
       "      <th>Neighborhood</th>\n",
       "      <th>...</th>\n",
       "      <th>EnclosedPorch</th>\n",
       "      <th>3SsnPorch</th>\n",
       "      <th>ScreenPorch</th>\n",
       "      <th>PoolArea</th>\n",
       "      <th>MiscVal</th>\n",
       "      <th>MoSold</th>\n",
       "      <th>YrSold</th>\n",
       "      <th>SaleType</th>\n",
       "      <th>SaleCondition</th>\n",
       "      <th>SalePrice</th>\n",
       "    </tr>\n",
       "  </thead>\n",
       "  <tbody>\n",
       "    <tr>\n",
       "      <th>0</th>\n",
       "      <td>60</td>\n",
       "      <td>RL</td>\n",
       "      <td>8450</td>\n",
       "      <td>Pave</td>\n",
       "      <td>Reg</td>\n",
       "      <td>Lvl</td>\n",
       "      <td>AllPub</td>\n",
       "      <td>Inside</td>\n",
       "      <td>Gtl</td>\n",
       "      <td>CollgCr</td>\n",
       "      <td>...</td>\n",
       "      <td>0</td>\n",
       "      <td>0</td>\n",
       "      <td>0</td>\n",
       "      <td>0</td>\n",
       "      <td>0</td>\n",
       "      <td>2</td>\n",
       "      <td>2008</td>\n",
       "      <td>WD</td>\n",
       "      <td>Normal</td>\n",
       "      <td>208500</td>\n",
       "    </tr>\n",
       "    <tr>\n",
       "      <th>1</th>\n",
       "      <td>20</td>\n",
       "      <td>RL</td>\n",
       "      <td>9600</td>\n",
       "      <td>Pave</td>\n",
       "      <td>Reg</td>\n",
       "      <td>Lvl</td>\n",
       "      <td>AllPub</td>\n",
       "      <td>FR2</td>\n",
       "      <td>Gtl</td>\n",
       "      <td>Veenker</td>\n",
       "      <td>...</td>\n",
       "      <td>0</td>\n",
       "      <td>0</td>\n",
       "      <td>0</td>\n",
       "      <td>0</td>\n",
       "      <td>0</td>\n",
       "      <td>5</td>\n",
       "      <td>2007</td>\n",
       "      <td>WD</td>\n",
       "      <td>Normal</td>\n",
       "      <td>181500</td>\n",
       "    </tr>\n",
       "    <tr>\n",
       "      <th>2</th>\n",
       "      <td>60</td>\n",
       "      <td>RL</td>\n",
       "      <td>11250</td>\n",
       "      <td>Pave</td>\n",
       "      <td>IR1</td>\n",
       "      <td>Lvl</td>\n",
       "      <td>AllPub</td>\n",
       "      <td>Inside</td>\n",
       "      <td>Gtl</td>\n",
       "      <td>CollgCr</td>\n",
       "      <td>...</td>\n",
       "      <td>0</td>\n",
       "      <td>0</td>\n",
       "      <td>0</td>\n",
       "      <td>0</td>\n",
       "      <td>0</td>\n",
       "      <td>9</td>\n",
       "      <td>2008</td>\n",
       "      <td>WD</td>\n",
       "      <td>Normal</td>\n",
       "      <td>223500</td>\n",
       "    </tr>\n",
       "    <tr>\n",
       "      <th>3</th>\n",
       "      <td>70</td>\n",
       "      <td>RL</td>\n",
       "      <td>9550</td>\n",
       "      <td>Pave</td>\n",
       "      <td>IR1</td>\n",
       "      <td>Lvl</td>\n",
       "      <td>AllPub</td>\n",
       "      <td>Corner</td>\n",
       "      <td>Gtl</td>\n",
       "      <td>Crawfor</td>\n",
       "      <td>...</td>\n",
       "      <td>272</td>\n",
       "      <td>0</td>\n",
       "      <td>0</td>\n",
       "      <td>0</td>\n",
       "      <td>0</td>\n",
       "      <td>2</td>\n",
       "      <td>2006</td>\n",
       "      <td>WD</td>\n",
       "      <td>Abnorml</td>\n",
       "      <td>140000</td>\n",
       "    </tr>\n",
       "    <tr>\n",
       "      <th>4</th>\n",
       "      <td>60</td>\n",
       "      <td>RL</td>\n",
       "      <td>14260</td>\n",
       "      <td>Pave</td>\n",
       "      <td>IR1</td>\n",
       "      <td>Lvl</td>\n",
       "      <td>AllPub</td>\n",
       "      <td>FR2</td>\n",
       "      <td>Gtl</td>\n",
       "      <td>NoRidge</td>\n",
       "      <td>...</td>\n",
       "      <td>0</td>\n",
       "      <td>0</td>\n",
       "      <td>0</td>\n",
       "      <td>0</td>\n",
       "      <td>0</td>\n",
       "      <td>12</td>\n",
       "      <td>2008</td>\n",
       "      <td>WD</td>\n",
       "      <td>Normal</td>\n",
       "      <td>250000</td>\n",
       "    </tr>\n",
       "  </tbody>\n",
       "</table>\n",
       "<p>5 rows × 74 columns</p>\n",
       "</div>"
      ],
      "text/plain": [
       "   MSSubClass MSZoning  LotArea Street LotShape LandContour Utilities  \\\n",
       "0          60       RL     8450   Pave      Reg         Lvl    AllPub   \n",
       "1          20       RL     9600   Pave      Reg         Lvl    AllPub   \n",
       "2          60       RL    11250   Pave      IR1         Lvl    AllPub   \n",
       "3          70       RL     9550   Pave      IR1         Lvl    AllPub   \n",
       "4          60       RL    14260   Pave      IR1         Lvl    AllPub   \n",
       "\n",
       "  LotConfig LandSlope Neighborhood  ... EnclosedPorch 3SsnPorch ScreenPorch  \\\n",
       "0    Inside       Gtl      CollgCr  ...             0         0           0   \n",
       "1       FR2       Gtl      Veenker  ...             0         0           0   \n",
       "2    Inside       Gtl      CollgCr  ...             0         0           0   \n",
       "3    Corner       Gtl      Crawfor  ...           272         0           0   \n",
       "4       FR2       Gtl      NoRidge  ...             0         0           0   \n",
       "\n",
       "  PoolArea  MiscVal  MoSold  YrSold  SaleType SaleCondition SalePrice  \n",
       "0        0        0       2    2008        WD        Normal    208500  \n",
       "1        0        0       5    2007        WD        Normal    181500  \n",
       "2        0        0       9    2008        WD        Normal    223500  \n",
       "3        0        0       2    2006        WD       Abnorml    140000  \n",
       "4        0        0      12    2008        WD        Normal    250000  \n",
       "\n",
       "[5 rows x 74 columns]"
      ]
     },
     "execution_count": 3,
     "metadata": {},
     "output_type": "execute_result"
    }
   ],
   "source": [
    "data = dataLoader('train.csv', 0.15)\n",
    "data.head()"
   ]
  },
  {
   "cell_type": "code",
   "execution_count": 4,
   "id": "8cfb8973-dcaf-4815-b0dd-a19e0f5ffdbf",
   "metadata": {},
   "outputs": [],
   "source": [
    "def dataSeg(data:pd.DataFrame)->pd.DataFrame:\n",
    "    '''\n",
    "    Separates the numerical data from cat data.  \n",
    "    y = Target Series\n",
    "    num = DataFrame with only numerical values\n",
    "    cat = DataFrame with only object values\n",
    "    '''\n",
    "    input_data = data.drop('SalePrice', axis = 1)\n",
    "    y  = data['SalePrice']\n",
    "    num = input_data.select_dtypes(exclude = 'object')\n",
    "    cat = input_data.select_dtypes(include = 'object')\n",
    "    \n",
    "    '''\n",
    "    Seperates the numerical data suitable for standardization, numerical ordinal data and year data for Target Encoding\n",
    "    int_data = DataFrame for standardization(columns which had nunique > 50)\n",
    "    ordinal_data = DataFrame containing ordinal columns(columns which had nunique < 50)\n",
    "    int_year_data = DataFrame containing year columns \n",
    "    '''\n",
    "    int_data_temp = num.nunique()[(num.nunique()>50) & (~num.columns.str.match('Year|Yr|[A-za-z]+Yr'))]\n",
    "    ordinal_data_temp = num.nunique()[num.nunique()<50]\n",
    "    int_year_data_temp = num.nunique()[num.columns.str.match('Year|Yr|[A-za-z]+Yr')]#.astype(str)\n",
    "    int_data = num.loc[:, int_data_temp.index]\n",
    "    ordinal_data = num.loc[:, ordinal_data_temp.index]\n",
    "    int_year_data = num.loc[:, int_year_data_temp.index]\n",
    "    \n",
    "    '''\n",
    "    Seperates the categorical data suitable for OHE and Traget Encoding\n",
    "    cat_data_ohe = DataFrame containing object data for OHE(columns which had nunique < 10)\n",
    "    cat_data_tc = DataFrame containing object data for TargetEncoding(columns which had nunique > 10)\n",
    "    '''\n",
    "    cat_cols_ohe_temp = cat.nunique()[cat.nunique()<10]\n",
    "    cat_cols_tc_temp = cat.nunique()[cat.nunique()>10]\n",
    "    cat_data_ohe = cat.loc[:, cat_cols_ohe_temp.index]\n",
    "    cat_data_tc = cat.loc[:, cat_cols_tc_temp.index]\n",
    "    \n",
    "    \n",
    "    return y, int_data, ordinal_data, int_year_data, cat_data_ohe, cat_data_tc"
   ]
  },
  {
   "cell_type": "code",
   "execution_count": 5,
   "id": "6397043e-c021-4f6b-bc45-b8247963525c",
   "metadata": {},
   "outputs": [],
   "source": [
    "y, int_data, ordinal_data, int_year_data, cat_data_ohe, cat_data_tc = dataSeg(data)"
   ]
  },
  {
   "cell_type": "code",
   "execution_count": 6,
   "id": "3eea0269-e228-40b4-9c27-a4b101334815",
   "metadata": {},
   "outputs": [],
   "source": [
    "def removeOutliers(data: pd.DataFrame)->pd.DataFrame:\n",
    "    \n",
    "    iqr = data.apply(lambda x: stats.iqr(x))\n",
    "    q3 = data.apply(lambda x: x.quantile(0.75))\n",
    "    q1 = data.apply(lambda x: x.quantile(0.25))\n",
    "    ul = q3 + 1.5 * iqr\n",
    "    ll = q1 - 1.5 * iqr\n",
    "    try:\n",
    "        assert len(ul) == len(ll)\n",
    "        new_data = data.apply(lambda x: [x.median() if (i > ul[x.name] or i < ll[x.name]) else i for i in x])\n",
    "    except AssertionError:\n",
    "        print(f'Columns are mismatching: {ul}, {ll}')\n",
    "    new_data1 = new_data.drop(new_data.sum()[new_data.sum() == 0].index, axis = 1)\n",
    "    new_data_std = (new_data1 - new_data1.mean())/new_data1.std()\n",
    "    return new_data_std"
   ]
  },
  {
   "cell_type": "code",
   "execution_count": 7,
   "id": "c229f28a-d921-43a4-bf76-e7156a595c39",
   "metadata": {},
   "outputs": [
    {
     "data": {
      "text/html": [
       "<div>\n",
       "<style scoped>\n",
       "    .dataframe tbody tr th:only-of-type {\n",
       "        vertical-align: middle;\n",
       "    }\n",
       "\n",
       "    .dataframe tbody tr th {\n",
       "        vertical-align: top;\n",
       "    }\n",
       "\n",
       "    .dataframe thead th {\n",
       "        text-align: right;\n",
       "    }\n",
       "</style>\n",
       "<table border=\"1\" class=\"dataframe\">\n",
       "  <thead>\n",
       "    <tr style=\"text-align: right;\">\n",
       "      <th></th>\n",
       "      <th>LotArea</th>\n",
       "      <th>MasVnrArea</th>\n",
       "      <th>BsmtFinSF1</th>\n",
       "      <th>BsmtUnfSF</th>\n",
       "      <th>TotalBsmtSF</th>\n",
       "      <th>1stFlrSF</th>\n",
       "      <th>2ndFlrSF</th>\n",
       "      <th>GrLivArea</th>\n",
       "      <th>GarageArea</th>\n",
       "      <th>WoodDeckSF</th>\n",
       "      <th>OpenPorchSF</th>\n",
       "    </tr>\n",
       "  </thead>\n",
       "  <tbody>\n",
       "    <tr>\n",
       "      <th>0</th>\n",
       "      <td>-0.335239</td>\n",
       "      <td>1.119230</td>\n",
       "      <td>0.592536</td>\n",
       "      <td>-1.015962</td>\n",
       "      <td>-0.627452</td>\n",
       "      <td>-0.875256</td>\n",
       "      <td>1.146109</td>\n",
       "      <td>0.483464</td>\n",
       "      <td>0.377844</td>\n",
       "      <td>-0.806724</td>\n",
       "      <td>0.547384</td>\n",
       "    </tr>\n",
       "    <tr>\n",
       "      <th>1</th>\n",
       "      <td>0.042933</td>\n",
       "      <td>-0.627961</td>\n",
       "      <td>1.232478</td>\n",
       "      <td>-0.678103</td>\n",
       "      <td>0.549352</td>\n",
       "      <td>0.305548</td>\n",
       "      <td>-0.812224</td>\n",
       "      <td>-0.538437</td>\n",
       "      <td>-0.161709</td>\n",
       "      <td>1.912642</td>\n",
       "      <td>-0.841937</td>\n",
       "    </tr>\n",
       "    <tr>\n",
       "      <th>2</th>\n",
       "      <td>0.585528</td>\n",
       "      <td>0.816146</td>\n",
       "      <td>0.074936</td>\n",
       "      <td>-0.299903</td>\n",
       "      <td>-0.441946</td>\n",
       "      <td>-0.689120</td>\n",
       "      <td>1.173627</td>\n",
       "      <td>0.656822</td>\n",
       "      <td>0.745720</td>\n",
       "      <td>-0.806724</td>\n",
       "      <td>0.114645</td>\n",
       "    </tr>\n",
       "    <tr>\n",
       "      <th>3</th>\n",
       "      <td>0.026491</td>\n",
       "      <td>-0.627961</td>\n",
       "      <td>-0.560301</td>\n",
       "      <td>-0.032642</td>\n",
       "      <td>-0.917306</td>\n",
       "      <td>-0.569876</td>\n",
       "      <td>0.921382</td>\n",
       "      <td>0.499431</td>\n",
       "      <td>0.954184</td>\n",
       "      <td>-0.806724</td>\n",
       "      <td>-0.044786</td>\n",
       "    </tr>\n",
       "    <tr>\n",
       "      <th>4</th>\n",
       "      <td>1.575353</td>\n",
       "      <td>2.492024</td>\n",
       "      <td>0.472547</td>\n",
       "      <td>-0.158708</td>\n",
       "      <td>0.210224</td>\n",
       "      <td>-0.034733</td>\n",
       "      <td>1.602442</td>\n",
       "      <td>1.596607</td>\n",
       "      <td>2.143652</td>\n",
       "      <td>0.945351</td>\n",
       "      <td>1.071227</td>\n",
       "    </tr>\n",
       "  </tbody>\n",
       "</table>\n",
       "</div>"
      ],
      "text/plain": [
       "    LotArea  MasVnrArea  BsmtFinSF1  BsmtUnfSF  TotalBsmtSF  1stFlrSF  \\\n",
       "0 -0.335239    1.119230    0.592536  -1.015962    -0.627452 -0.875256   \n",
       "1  0.042933   -0.627961    1.232478  -0.678103     0.549352  0.305548   \n",
       "2  0.585528    0.816146    0.074936  -0.299903    -0.441946 -0.689120   \n",
       "3  0.026491   -0.627961   -0.560301  -0.032642    -0.917306 -0.569876   \n",
       "4  1.575353    2.492024    0.472547  -0.158708     0.210224 -0.034733   \n",
       "\n",
       "   2ndFlrSF  GrLivArea  GarageArea  WoodDeckSF  OpenPorchSF  \n",
       "0  1.146109   0.483464    0.377844   -0.806724     0.547384  \n",
       "1 -0.812224  -0.538437   -0.161709    1.912642    -0.841937  \n",
       "2  1.173627   0.656822    0.745720   -0.806724     0.114645  \n",
       "3  0.921382   0.499431    0.954184   -0.806724    -0.044786  \n",
       "4  1.602442   1.596607    2.143652    0.945351     1.071227  "
      ]
     },
     "execution_count": 7,
     "metadata": {},
     "output_type": "execute_result"
    }
   ],
   "source": [
    "new_data_std = removeOutliers(int_data)\n",
    "new_data_std.head()"
   ]
  },
  {
   "cell_type": "code",
   "execution_count": 8,
   "id": "d1d29188-1113-43c7-b4ed-683d47e55528",
   "metadata": {
    "tags": []
   },
   "outputs": [],
   "source": [
    "from category_encoders import TargetEncoder\n",
    "def encoding(int_year_data:pd.DataFrame, cat_data_ohe:pd.DataFrame, cat_data_tc:pd.DataFrame)->pd.DataFrame:\n",
    "    \n",
    "    '''\n",
    "    after_ohe_cat = Categoriacal columns OHE(nunique < 10)\n",
    "    '''\n",
    "    after_ohe_cat = pd.get_dummies(cat_data_ohe, drop_first = True)\n",
    "    \n",
    "    '''\n",
    "    after_tc_year_std = Year column target encoded and standardized\n",
    "    after_tc_cat_std = Categorical column(nunique > 10) target encoded and standardized\n",
    "    '''\n",
    "    encoder = TargetEncoder()\n",
    "    after_tc_year_temp = encoder.fit_transform(int_year_data.astype(str), y)\n",
    "    after_tc_cat_temp = encoder.fit_transform(cat_data_tc, y)\n",
    "    after_tc_year_std = (after_tc_year_temp - after_tc_year_temp.mean()) / after_tc_year_temp.std()\n",
    "    after_tc_cat_std = (after_tc_cat_temp - after_tc_cat_temp.mean()) / after_tc_cat_temp.std()\n",
    "    \n",
    "    \n",
    "    return after_ohe_cat, after_tc_year_std, after_tc_cat_std"
   ]
  },
  {
   "cell_type": "code",
   "execution_count": 9,
   "id": "60ccab7c-535c-48d2-8440-a32c9589ccb6",
   "metadata": {},
   "outputs": [
    {
     "data": {
      "text/html": [
       "<div>\n",
       "<style scoped>\n",
       "    .dataframe tbody tr th:only-of-type {\n",
       "        vertical-align: middle;\n",
       "    }\n",
       "\n",
       "    .dataframe tbody tr th {\n",
       "        vertical-align: top;\n",
       "    }\n",
       "\n",
       "    .dataframe thead th {\n",
       "        text-align: right;\n",
       "    }\n",
       "</style>\n",
       "<table border=\"1\" class=\"dataframe\">\n",
       "  <thead>\n",
       "    <tr style=\"text-align: right;\">\n",
       "      <th></th>\n",
       "      <th>Neighborhood</th>\n",
       "      <th>Exterior1st</th>\n",
       "      <th>Exterior2nd</th>\n",
       "    </tr>\n",
       "  </thead>\n",
       "  <tbody>\n",
       "    <tr>\n",
       "      <th>0</th>\n",
       "      <td>0.229513</td>\n",
       "      <td>1.017326</td>\n",
       "      <td>1.065322</td>\n",
       "    </tr>\n",
       "    <tr>\n",
       "      <th>1</th>\n",
       "      <td>0.288626</td>\n",
       "      <td>-1.147664</td>\n",
       "      <td>-1.145377</td>\n",
       "    </tr>\n",
       "    <tr>\n",
       "      <th>2</th>\n",
       "      <td>0.229513</td>\n",
       "      <td>1.017326</td>\n",
       "      <td>1.065322</td>\n",
       "    </tr>\n",
       "    <tr>\n",
       "      <th>3</th>\n",
       "      <td>0.441819</td>\n",
       "      <td>-1.028007</td>\n",
       "      <td>-0.391987</td>\n",
       "    </tr>\n",
       "    <tr>\n",
       "      <th>4</th>\n",
       "      <td>2.566628</td>\n",
       "      <td>1.017326</td>\n",
       "      <td>1.065322</td>\n",
       "    </tr>\n",
       "  </tbody>\n",
       "</table>\n",
       "</div>"
      ],
      "text/plain": [
       "   Neighborhood  Exterior1st  Exterior2nd\n",
       "0      0.229513     1.017326     1.065322\n",
       "1      0.288626    -1.147664    -1.145377\n",
       "2      0.229513     1.017326     1.065322\n",
       "3      0.441819    -1.028007    -0.391987\n",
       "4      2.566628     1.017326     1.065322"
      ]
     },
     "execution_count": 9,
     "metadata": {},
     "output_type": "execute_result"
    }
   ],
   "source": [
    "after_ohe_cat, after_tc_year, after_tc_cat = encoding(int_year_data, cat_data_ohe, cat_data_tc)\n",
    "after_tc_cat.head()"
   ]
  },
  {
   "cell_type": "code",
   "execution_count": 10,
   "id": "da1fc9a2-00f7-406c-a707-7a3beafc71a4",
   "metadata": {
    "tags": []
   },
   "outputs": [],
   "source": [
    "def feature_concat(*args):\n",
    "    features_for_model = pd.concat(args, axis = 1)\n",
    "    return features_for_model"
   ]
  },
  {
   "cell_type": "code",
   "execution_count": 11,
   "id": "7561001c-658f-4561-aa42-1f1afcae0fb3",
   "metadata": {
    "tags": []
   },
   "outputs": [
    {
     "data": {
      "text/plain": [
       "(1338, 175)"
      ]
     },
     "execution_count": 11,
     "metadata": {},
     "output_type": "execute_result"
    }
   ],
   "source": [
    "feature = feature_concat(new_data_std, ordinal_data, after_ohe_cat, after_tc_year, after_tc_cat)\n",
    "feature.shape"
   ]
  },
  {
   "cell_type": "markdown",
   "id": "0fd9f0a9-a1fa-4f2b-b3e5-a07438d42cb3",
   "metadata": {},
   "source": [
    "### Log Scale"
   ]
  },
  {
   "cell_type": "code",
   "execution_count": 12,
   "id": "00e60246-3e5b-4691-bed5-9060347f0e9a",
   "metadata": {},
   "outputs": [
    {
     "data": {
      "text/plain": [
       "0    12.247699\n",
       "1    12.109016\n",
       "2    12.317171\n",
       "3    11.849405\n",
       "4    12.429220\n",
       "Name: SalePrice, dtype: float64"
      ]
     },
     "execution_count": 12,
     "metadata": {},
     "output_type": "execute_result"
    }
   ],
   "source": [
    "y = np.log1p(y)\n",
    "y.head()"
   ]
  },
  {
   "cell_type": "markdown",
   "id": "835ad04c-26c7-4685-aa33-1c0c2321f7e4",
   "metadata": {},
   "source": [
    "### Model"
   ]
  },
  {
   "cell_type": "code",
   "execution_count": 13,
   "id": "6c05181b-4dbb-4a90-97ad-3ee0491f09f6",
   "metadata": {},
   "outputs": [],
   "source": [
    "from sklearn.model_selection import train_test_split\n",
    "X_train,X_test,y_train,y_test = train_test_split(feature,y,test_size=0.2)"
   ]
  },
  {
   "cell_type": "code",
   "execution_count": 14,
   "id": "112a5379-316d-4d61-a48d-9a8a38b3ec31",
   "metadata": {},
   "outputs": [],
   "source": [
    "from sklearn.linear_model import LinearRegression\n",
    "model = LinearRegression()\n",
    "y_pred = model.fit(X_train,y_train).predict(X_test)"
   ]
  },
  {
   "cell_type": "code",
   "execution_count": 15,
   "id": "9f1da14f-6eb3-4750-9323-4900a50f76d2",
   "metadata": {},
   "outputs": [],
   "source": [
    "from sklearn.metrics import r2_score\n",
    "score = r2_score(y_test,y_pred)"
   ]
  },
  {
   "cell_type": "code",
   "execution_count": 16,
   "id": "a5fa44d1-b8e0-4027-ad0b-ce388fc1caab",
   "metadata": {},
   "outputs": [
    {
     "data": {
      "text/plain": [
       "0.8379171088222728"
      ]
     },
     "execution_count": 16,
     "metadata": {},
     "output_type": "execute_result"
    }
   ],
   "source": [
    "score"
   ]
  },
  {
   "cell_type": "code",
   "execution_count": 17,
   "id": "44a20073-b3d1-4693-99be-b1c2b2bb2613",
   "metadata": {},
   "outputs": [
    {
     "data": {
      "text/plain": [
       "0.8642438838689053"
      ]
     },
     "execution_count": 17,
     "metadata": {},
     "output_type": "execute_result"
    }
   ],
   "source": [
    "from sklearn.model_selection import cross_val_score\n",
    "cross_val_score(model,feature, y, cv = 10).mean()"
   ]
  },
  {
   "cell_type": "code",
   "execution_count": null,
   "id": "4c4f4c8c-d7ca-45d8-a657-b390981cf656",
   "metadata": {},
   "outputs": [],
   "source": []
  }
 ],
 "metadata": {
  "kernelspec": {
   "display_name": "Python 3 (ipykernel)",
   "language": "python",
   "name": "python3"
  },
  "language_info": {
   "codemirror_mode": {
    "name": "ipython",
    "version": 3
   },
   "file_extension": ".py",
   "mimetype": "text/x-python",
   "name": "python",
   "nbconvert_exporter": "python",
   "pygments_lexer": "ipython3",
   "version": "3.10.4"
  }
 },
 "nbformat": 4,
 "nbformat_minor": 5
}
